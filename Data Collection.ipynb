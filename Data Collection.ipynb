{
 "cells": [
  {
   "cell_type": "code",
   "execution_count": 2,
   "metadata": {},
   "outputs": [],
   "source": [
    "import os\n",
    "import shutil\n",
    "import glob\n",
    "from tqdm import tqdm"
   ]
  },
  {
   "cell_type": "markdown",
   "metadata": {},
   "source": [
    "#\n",
    "subject ID:\n",
    "xxx\n",
    "\n",
    "image number:\n",
    "xxx\n",
    "\n",
    "gender:\n",
    "0 - male\n",
    "1 - famale\n",
    "\n",
    "glasses:\n",
    "0 - no\n",
    "1 - yes\n",
    "\n",
    "eye state:\n",
    "0 - close\n",
    "1 - open\n",
    "\n",
    "reflections:\n",
    "0 - none\n",
    "1 - low\n",
    "2 - high\n",
    "\n",
    "lighting conditions/image quality:\n",
    "0 - bad\n",
    "1 - good\n",
    "\n",
    "sensor type:\n",
    "01 - RealSense SR300 640x480\n",
    "02 - IDS Imaging, 1280x1024\n",
    "03 - Aptina Imagin 752x480\n",
    "\n",
    "example:\n",
    "s001_00123_0_0_0_0_0_01.png"
   ]
  },
  {
   "cell_type": "code",
   "execution_count": 3,
   "metadata": {},
   "outputs": [
    {
     "name": "stderr",
     "output_type": "stream",
     "text": [
      "0it [00:00, ?it/s]\n",
      "  0%|          | 0/3242 [00:00<?, ?it/s]"
     ]
    },
    {
     "name": "stderr",
     "output_type": "stream",
     "text": [
      "100%|██████████| 3242/3242 [00:26<00:00, 123.11it/s]\n",
      "100%|██████████| 1114/1114 [00:08<00:00, 129.88it/s]\n",
      "100%|██████████| 679/679 [00:05<00:00, 131.43it/s]\n",
      "100%|██████████| 1069/1069 [00:08<00:00, 130.08it/s]\n",
      "100%|██████████| 736/736 [00:05<00:00, 130.06it/s]\n",
      "100%|██████████| 1012/1012 [00:07<00:00, 128.83it/s]\n",
      "100%|██████████| 624/624 [00:05<00:00, 114.94it/s]\n",
      "100%|██████████| 832/832 [00:06<00:00, 128.64it/s]\n",
      "100%|██████████| 387/387 [00:02<00:00, 131.33it/s]\n",
      "100%|██████████| 399/399 [00:03<00:00, 129.56it/s]\n",
      "100%|██████████| 1648/1648 [00:12<00:00, 128.91it/s]\n",
      "100%|██████████| 8728/8728 [01:08<00:00, 126.89it/s]\n",
      "100%|██████████| 3605/3605 [00:27<00:00, 133.35it/s]\n",
      "100%|██████████| 8884/8884 [01:14<00:00, 119.18it/s]\n",
      "100%|██████████| 1132/1132 [00:09<00:00, 125.08it/s]\n",
      "100%|██████████| 1889/1889 [00:15<00:00, 119.43it/s]\n",
      "100%|██████████| 1648/1648 [00:12<00:00, 127.63it/s]\n",
      "100%|██████████| 4410/4410 [00:34<00:00, 127.89it/s]\n",
      "100%|██████████| 6175/6175 [00:46<00:00, 131.76it/s]\n",
      "100%|██████████| 704/704 [00:05<00:00, 130.91it/s]\n",
      "100%|██████████| 987/987 [00:07<00:00, 132.18it/s]\n",
      "100%|██████████| 382/382 [00:02<00:00, 132.05it/s]\n",
      "100%|██████████| 522/522 [00:03<00:00, 133.35it/s]\n",
      "100%|██████████| 752/752 [00:05<00:00, 130.83it/s]\n",
      "100%|██████████| 1502/1502 [00:11<00:00, 130.41it/s]\n",
      "100%|██████████| 1246/1246 [00:09<00:00, 131.79it/s]\n",
      "100%|██████████| 665/665 [00:05<00:00, 132.57it/s]\n",
      "100%|██████████| 736/736 [00:05<00:00, 132.05it/s]\n",
      "100%|██████████| 1393/1393 [00:10<00:00, 130.21it/s]\n",
      "100%|██████████| 1384/1384 [00:10<00:00, 131.27it/s]\n",
      "100%|██████████| 1738/1738 [00:13<00:00, 130.46it/s]\n",
      "100%|██████████| 6162/6162 [00:46<00:00, 132.80it/s]\n",
      "100%|██████████| 681/681 [00:05<00:00, 131.24it/s]\n",
      "100%|██████████| 739/739 [00:05<00:00, 134.56it/s]\n",
      "100%|██████████| 642/642 [00:04<00:00, 134.71it/s]\n",
      "100%|██████████| 6193/6193 [00:46<00:00, 132.79it/s]\n",
      "100%|██████████| 10257/10257 [01:17<00:00, 132.75it/s]\n"
     ]
    }
   ],
   "source": [
    "Raw_DIR= r'D:\\DDS_Project\\mrlEyes_2018_01'\n",
    "for dirpath, dirname, filenames in os.walk(Raw_DIR):\n",
    "    for i in tqdm([f for f in filenames if f.endswith('.png')]):\n",
    "        if i.split('_')[4]=='0':\n",
    "            shutil.copy(src=dirpath+'/'+i, dst=r'D:\\DDS_Project\\Prepared_Data\\Close Eyes')\n",
    "        \n",
    "        elif i.split('_')[4]=='1':\n",
    "            shutil.copy(src=dirpath+'/'+i, dst=r'D:\\DDS_Project\\Prepared_Data\\Open Eyes')\n"
   ]
  },
  {
   "cell_type": "code",
   "execution_count": null,
   "metadata": {},
   "outputs": [],
   "source": []
  },
  {
   "cell_type": "code",
   "execution_count": null,
   "metadata": {},
   "outputs": [],
   "source": []
  }
 ],
 "metadata": {
  "kernelspec": {
   "display_name": "Python 3",
   "language": "python",
   "name": "python3"
  },
  "language_info": {
   "codemirror_mode": {
    "name": "ipython",
    "version": 3
   },
   "file_extension": ".py",
   "mimetype": "text/x-python",
   "name": "python",
   "nbconvert_exporter": "python",
   "pygments_lexer": "ipython3",
   "version": "3.11.5"
  }
 },
 "nbformat": 4,
 "nbformat_minor": 4
}
